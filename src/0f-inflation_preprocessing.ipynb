{
 "cells": [
  {
   "cell_type": "code",
   "execution_count": 1,
   "id": "initial_id",
   "metadata": {
    "collapsed": true,
    "ExecuteTime": {
     "end_time": "2024-04-06T01:26:01.803165Z",
     "start_time": "2024-04-06T01:26:01.765947Z"
    }
   },
   "outputs": [],
   "source": [
    "# Automatic File Naming Utility\n",
    "from output_util import OutputUtil\n",
    "\n",
    "outputUtil = OutputUtil()"
   ]
  },
  {
   "cell_type": "markdown",
   "id": "b27b657930f5ddbc",
   "metadata": {
    "collapsed": false
   },
   "source": [
    "# Inflation Data Preprocessing and Merge"
   ]
  },
  {
   "cell_type": "code",
   "execution_count": 2,
   "id": "9a556ffdbd06244d",
   "metadata": {
    "collapsed": false,
    "ExecuteTime": {
     "end_time": "2024-04-06T01:26:01.948801Z",
     "start_time": "2024-04-06T01:26:01.807897Z"
    }
   },
   "outputs": [],
   "source": [
    "import pandas as pd\n",
    "from globals import INFLATION_PATH\n",
    "\n",
    "#Including Inflation Data\n",
    "inflation_df = pd.read_csv(INFLATION_PATH, skiprows=10)\n",
    "inflation_df.drop(columns=inflation_df.columns[2:4], inplace=True)\n",
    "inflation_df.drop(columns=inflation_df.columns[2:4], inplace=True)\n",
    "inflation_df['date'] = pd.to_datetime(inflation_df['date']).dt.year\n",
    "inflation_df = inflation_df.groupby('date')['INDINF_CPI_M'].mean().reset_index()\n",
    "inflation_df = inflation_df.query('2012 <= date <= 2022')\n",
    "inflation_df.rename(columns={'date': 'Year', 'INDINF_CPI_M': 'Inflation'}, inplace=True)\n",
    "\n",
    "inflation_df.to_csv(outputUtil.generate_output_filepath(\"inflation\"), index=False)"
   ]
  },
  {
   "cell_type": "markdown",
   "id": "5f1c55d8adae012",
   "metadata": {
    "collapsed": false
   },
   "source": [
    "# Final Output of the Notebook"
   ]
  },
  {
   "cell_type": "code",
   "execution_count": 3,
   "id": "45871b2e955d8ba9",
   "metadata": {
    "collapsed": false,
    "ExecuteTime": {
     "end_time": "2024-04-06T01:26:01.969097Z",
     "start_time": "2024-04-06T01:26:01.952334Z"
    }
   },
   "outputs": [],
   "source": [
    "df = pd.read_csv(outputUtil.get_curr_filepath())\n",
    "df.to_csv(outputUtil.get_final_filepath(), index=False)"
   ]
  }
 ],
 "metadata": {
  "kernelspec": {
   "display_name": "Python 3",
   "language": "python",
   "name": "python3"
  },
  "language_info": {
   "codemirror_mode": {
    "name": "ipython",
    "version": 3
   },
   "file_extension": ".py",
   "mimetype": "text/x-python",
   "name": "python",
   "nbconvert_exporter": "python",
   "pygments_lexer": "ipython3",
   "version": "3.12.2"
  }
 },
 "nbformat": 4,
 "nbformat_minor": 5
}
