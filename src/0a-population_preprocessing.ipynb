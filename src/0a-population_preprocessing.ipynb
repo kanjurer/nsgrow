{
 "cells": [
  {
   "cell_type": "code",
   "execution_count": 1,
   "id": "1b6a0a02d9be3923",
   "metadata": {
    "collapsed": false,
    "ExecuteTime": {
     "end_time": "2024-04-06T01:25:51.475679Z",
     "start_time": "2024-04-06T01:25:51.445941Z"
    }
   },
   "outputs": [],
   "source": [
    "# Automatic File Naming Utility\n",
    "from output_util import OutputUtil\n",
    "\n",
    "outputUtil = OutputUtil()"
   ]
  },
  {
   "cell_type": "markdown",
   "id": "5dea73cb286455a2",
   "metadata": {
    "collapsed": false
   },
   "source": [
    "# Population Dataframe Retrieval"
   ]
  },
  {
   "cell_type": "code",
   "execution_count": 2,
   "id": "54d55911714c1ae3",
   "metadata": {
    "collapsed": false,
    "ExecuteTime": {
     "end_time": "2024-04-06T01:25:51.529331Z",
     "start_time": "2024-04-06T01:25:51.478020Z"
    }
   },
   "outputs": [],
   "source": [
    "import io\n",
    "import pandas as pd\n",
    "from globals import POPULATION_PATH\n",
    "\n",
    "start_line = 10\n",
    "end_line = 29\n",
    "skip_lines = [11]\n",
    "lines_to_read = []\n",
    "header_line = 10\n",
    "header = \"\"\n",
    "\n",
    "# Open the file\n",
    "with open(POPULATION_PATH, 'r') as file:\n",
    "    # Skip lines until the start_line\n",
    "    for i in range(0, end_line + 1):\n",
    "        # headers\n",
    "        if i == header_line:\n",
    "            header = next(file)\n",
    "        elif (i not in skip_lines) and start_line <= i <= end_line:\n",
    "            lines_to_read.append(next(file))\n",
    "        else:\n",
    "            next(file)\n",
    "\n",
    "file.close()\n",
    "\n",
    "data = header + ''.join(lines_to_read)\n",
    "df = pd.read_csv(io.StringIO(data))\n",
    "\n",
    "df.to_csv(outputUtil.generate_output_filepath(desc=\"raw\"), index=False)"
   ]
  },
  {
   "cell_type": "markdown",
   "id": "85e33048fee89b77",
   "metadata": {
    "collapsed": false
   },
   "source": [
    "# Population Preprocessing"
   ]
  },
  {
   "cell_type": "code",
   "execution_count": 3,
   "id": "e015063493863e3a",
   "metadata": {
    "collapsed": false,
    "ExecuteTime": {
     "end_time": "2024-04-06T01:25:52.326316Z",
     "start_time": "2024-04-06T01:25:51.531706Z"
    }
   },
   "outputs": [],
   "source": [
    "from sklearn.base import BaseEstimator, TransformerMixin\n",
    "from sklearn.pipeline import Pipeline\n",
    "\n",
    "pop_df = pd.read_csv(outputUtil.get_curr_filepath(), thousands=',')\n",
    "\n",
    "\n",
    "class PopulationTransformer(BaseEstimator, TransformerMixin):\n",
    "    def __init__(self):\n",
    "        pass\n",
    "\n",
    "    def fit(self, x, y=None):\n",
    "        return self\n",
    "\n",
    "    def transform(self, x: pd.DataFrame, y=None) -> pd.DataFrame:\n",
    "        # drop nova scotia string\n",
    "        x[\"Geography\"] = x[\"Geography\"].str.replace(', Nova Scotia', '')\n",
    "        x.rename(columns={\"Geography\": \"Region\"}, inplace=True)\n",
    "\n",
    "        return x\n",
    "\n",
    "\n",
    "pipe = Pipeline([\n",
    "    ('population', PopulationTransformer()),\n",
    "])\n",
    "\n",
    "pop_df = pipe.fit_transform(pop_df)\n",
    "pop_df.to_csv(outputUtil.generate_output_filepath(\"pipeline\"), index=False)"
   ]
  },
  {
   "cell_type": "markdown",
   "id": "671e495069a6b432",
   "metadata": {
    "collapsed": false
   },
   "source": [
    "# Melting the Dataframe"
   ]
  },
  {
   "cell_type": "code",
   "execution_count": 4,
   "id": "6248fc13dd0adb4c",
   "metadata": {
    "collapsed": false,
    "ExecuteTime": {
     "end_time": "2024-04-06T01:25:52.362281Z",
     "start_time": "2024-04-06T01:25:52.330993Z"
    }
   },
   "outputs": [],
   "source": [
    "pop_df = pd.read_csv(outputUtil.get_curr_filepath())\n",
    "pop_df = pop_df.melt(id_vars=[\"Region\"], var_name='Year', value_name='Population')\n",
    "pop_df.to_csv(outputUtil.generate_output_filepath(\"melted\"), index=False)"
   ]
  },
  {
   "cell_type": "markdown",
   "source": [
    "# Population Growth Rate"
   ],
   "metadata": {
    "collapsed": false
   },
   "id": "2895a8a40335f048"
  },
  {
   "cell_type": "code",
   "outputs": [],
   "source": [
    "pop_df = pd.read_csv(outputUtil.get_curr_filepath())\n",
    "\n",
    "pop_df = pop_df.sort_values(by=['Region', 'Year'])\n",
    "pop_df['Population Change'] = pop_df.groupby('Region')['Population'].diff()\n",
    "pop_df['Population Change'] = pop_df['Population Change'].fillna(0)\n",
    "pop_df['Population Change'] = pop_df['Population Change'].astype(int)\n",
    "pop_df['Population Change Percentage'] = (pop_df['Population Change'] / pop_df['Population'].shift(1)) * 100\n",
    "pop_df['Population Change Percentage'] = pop_df['Population Change Percentage'].fillna(0)\n",
    "pop_df['Population Change Percentage'] = pop_df['Population Change Percentage'].round(2)\n",
    "\n",
    "pop_df.to_csv(outputUtil.generate_output_filepath(\"growth_rates\"), index=False)"
   ],
   "metadata": {
    "collapsed": false,
    "ExecuteTime": {
     "end_time": "2024-04-06T01:25:52.409948Z",
     "start_time": "2024-04-06T01:25:52.364605Z"
    }
   },
   "id": "f0efb3ea672e74de",
   "execution_count": 5
  },
  {
   "cell_type": "markdown",
   "source": [
    "# Drop Years"
   ],
   "metadata": {
    "collapsed": false
   },
   "id": "61d2fd2e2dfeb70f"
  },
  {
   "cell_type": "code",
   "outputs": [],
   "source": [
    "pop_df = pd.read_csv(outputUtil.get_curr_filepath())\n",
    "\n",
    "pop_df = pop_df[(pop_df[\"Year\"] >= 2013) & (pop_df[\"Year\"] <= 2020)]\n",
    "\n",
    "pop_df.to_csv(outputUtil.generate_output_filepath(\"drop_years\"), index=False)"
   ],
   "metadata": {
    "collapsed": false,
    "ExecuteTime": {
     "end_time": "2024-04-06T01:25:52.440339Z",
     "start_time": "2024-04-06T01:25:52.412277Z"
    }
   },
   "id": "d352ebca46613781",
   "execution_count": 6
  },
  {
   "cell_type": "markdown",
   "id": "2db49560f7985730",
   "metadata": {
    "collapsed": false
   },
   "source": [
    "# Final Output of the Notebook"
   ]
  },
  {
   "cell_type": "code",
   "execution_count": 7,
   "id": "6752991b73c4c9ac",
   "metadata": {
    "collapsed": false,
    "ExecuteTime": {
     "end_time": "2024-04-06T01:25:52.464609Z",
     "start_time": "2024-04-06T01:25:52.442704Z"
    }
   },
   "outputs": [],
   "source": [
    "df = pd.read_csv(outputUtil.get_curr_filepath())\n",
    "df.to_csv(outputUtil.get_final_filepath(), index=False)"
   ]
  }
 ],
 "metadata": {
  "kernelspec": {
   "display_name": "Python 3",
   "language": "python",
   "name": "python3"
  },
  "language_info": {
   "codemirror_mode": {
    "name": "ipython",
    "version": 3
   },
   "file_extension": ".py",
   "mimetype": "text/x-python",
   "name": "python",
   "nbconvert_exporter": "python",
   "pygments_lexer": "ipython3",
   "version": "3.12.2"
  }
 },
 "nbformat": 4,
 "nbformat_minor": 5
}
