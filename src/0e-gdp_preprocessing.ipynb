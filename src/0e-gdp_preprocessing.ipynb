{
 "cells": [
  {
   "cell_type": "code",
   "execution_count": 1,
   "id": "1fb484ff9465d208",
   "metadata": {
    "collapsed": false,
    "ExecuteTime": {
     "end_time": "2024-04-06T01:25:57.732077Z",
     "start_time": "2024-04-06T01:25:57.691630Z"
    }
   },
   "outputs": [],
   "source": [
    "# Automatic File Naming Utility\n",
    "from output_util import OutputUtil\n",
    "\n",
    "outputUtil = OutputUtil()"
   ]
  },
  {
   "cell_type": "markdown",
   "id": "73ac1760a219134a",
   "metadata": {
    "collapsed": false
   },
   "source": [
    "# GDP Data Preprocessing and Merge"
   ]
  },
  {
   "cell_type": "code",
   "execution_count": 2,
   "id": "7286705c4ca65e88",
   "metadata": {
    "collapsed": false,
    "ExecuteTime": {
     "end_time": "2024-04-06T01:25:57.813885Z",
     "start_time": "2024-04-06T01:25:57.735559Z"
    }
   },
   "outputs": [],
   "source": [
    "import pandas as pd\n",
    "from globals import GDP_PATH\n",
    "\n",
    "CDN_row = 41\n",
    "\n",
    "CDN_GDP = pd.read_csv(GDP_PATH, skiprows=lambda x: x not in [4, 40])\n",
    "Required_Years = CDN_GDP.loc[:, '2013':'2020']\n",
    "Required_Years = Required_Years.melt(var_name='Year', value_name='GDP')\n",
    "\n",
    "Required_Years['Year'] = Required_Years['Year'].astype(str)\n",
    "Required_Years.to_csv(outputUtil.generate_output_filepath(\"gdp\"), index=False)"
   ]
  },
  {
   "cell_type": "markdown",
   "id": "ddcf0c083bfff1d7",
   "metadata": {
    "collapsed": false
   },
   "source": [
    "# Final Output of the Notebook"
   ]
  },
  {
   "cell_type": "code",
   "execution_count": 3,
   "id": "878c2dbbb59ca30b",
   "metadata": {
    "collapsed": false,
    "ExecuteTime": {
     "end_time": "2024-04-06T01:25:57.850414Z",
     "start_time": "2024-04-06T01:25:57.819658Z"
    }
   },
   "outputs": [],
   "source": [
    "df = pd.read_csv(outputUtil.get_curr_filepath())\n",
    "df.to_csv(outputUtil.get_final_filepath(), index=False)"
   ]
  }
 ],
 "metadata": {
  "kernelspec": {
   "display_name": "Python 3",
   "language": "python",
   "name": "python3"
  },
  "language_info": {
   "codemirror_mode": {
    "name": "ipython",
    "version": 3
   },
   "file_extension": ".py",
   "mimetype": "text/x-python",
   "name": "python",
   "nbconvert_exporter": "python",
   "pygments_lexer": "ipython3",
   "version": "3.12.2"
  }
 },
 "nbformat": 4,
 "nbformat_minor": 5
}
