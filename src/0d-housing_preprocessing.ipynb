{
 "cells": [
  {
   "cell_type": "code",
   "execution_count": 1,
   "id": "925f1ac8b2b0348",
   "metadata": {
    "collapsed": false,
    "ExecuteTime": {
     "end_time": "2024-04-06T01:25:59.957648Z",
     "start_time": "2024-04-06T01:25:59.927616Z"
    }
   },
   "outputs": [],
   "source": [
    "# Automatic File Naming Utility\n",
    "from output_util import OutputUtil\n",
    "\n",
    "outputUtil = OutputUtil()"
   ]
  },
  {
   "cell_type": "markdown",
   "id": "8f26ebc4abf53d49",
   "metadata": {
    "collapsed": false
   },
   "source": [
    "# Housing Data Preprocessing and Merge"
   ]
  },
  {
   "cell_type": "code",
   "execution_count": 2,
   "id": "7ba8a658",
   "metadata": {
    "ExecuteTime": {
     "end_time": "2024-04-06T01:26:00.235856Z",
     "start_time": "2024-04-06T01:25:59.960799Z"
    }
   },
   "outputs": [],
   "source": [
    "import pandas as pd\n",
    "from globals import HOUSING_PATH\n",
    "\n",
    "housing_df = pd.read_csv(HOUSING_PATH, skiprows=lambda x: (x < 10) or (x == 11) or (x >= 30))\n",
    "\n",
    "housing_df = housing_df.replace(\",\", \"\", regex=True)\n",
    "housing_df.drop('Housing estimates', axis=1, inplace=True)\n",
    "housing_df.drop('Type of unit', axis=1, inplace=True)\n",
    "\n",
    "housing_df = housing_df.T\n",
    "housing_df.reset_index(inplace=True)\n",
    "housing_df.columns = ['Quarter', \"Total Units Started\", \"N\", \"N\", \"N\", \"N\", \"N\",\n",
    "                      \"Total Units Under Construction\", \"N\", \"N\", \"N\", \"N\", \"N\",\n",
    "                      \"Total Units Construction Completed\", \"N\", \"N\", \"N\", \"N\", \"N\"]\n",
    "\n",
    "housing_df.drop('N', axis=1, inplace=True)\n",
    "\n",
    "housing_df['Year'] = housing_df['Quarter'].str.extract(r'(\\d{4})').astype(int)\n",
    "housing_df.drop(\"Quarter\", axis=1, inplace=True)\n",
    "\n",
    "for col in housing_df.columns:\n",
    "    housing_df[col] = housing_df[col].astype(int)\n",
    "\n",
    "housing_df = housing_df.groupby('Year').sum()\n",
    "\n",
    "housing_df.to_csv(outputUtil.generate_output_filepath(desc=\"housing\"), index=False)\n"
   ]
  },
  {
   "cell_type": "markdown",
   "id": "e2f79ed99cb7b05e",
   "metadata": {
    "collapsed": false
   },
   "source": [
    "# Final Output of the Notebook"
   ]
  },
  {
   "cell_type": "code",
   "execution_count": 3,
   "id": "58622d818fe6ea7d",
   "metadata": {
    "collapsed": false,
    "ExecuteTime": {
     "end_time": "2024-04-06T01:26:00.255952Z",
     "start_time": "2024-04-06T01:26:00.238087Z"
    }
   },
   "outputs": [],
   "source": [
    "df = pd.read_csv(outputUtil.get_curr_filepath())\n",
    "df.to_csv(outputUtil.get_final_filepath(), index=False)"
   ]
  }
 ],
 "metadata": {
  "kernelspec": {
   "display_name": "Python 3",
   "language": "python",
   "name": "python3"
  },
  "language_info": {
   "codemirror_mode": {
    "name": "ipython",
    "version": 3
   },
   "file_extension": ".py",
   "mimetype": "text/x-python",
   "name": "python",
   "nbconvert_exporter": "python",
   "pygments_lexer": "ipython3",
   "version": "3.12.2"
  }
 },
 "nbformat": 4,
 "nbformat_minor": 5
}
