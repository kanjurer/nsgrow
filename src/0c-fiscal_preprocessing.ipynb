{
 "cells": [
  {
   "cell_type": "markdown",
   "id": "582a068df31ed75c",
   "metadata": {
    "collapsed": false
   },
   "source": [
    "# Fiscal Data Preprocessing"
   ]
  },
  {
   "cell_type": "code",
   "execution_count": 1,
   "id": "3326f0168d295c5c",
   "metadata": {
    "collapsed": false,
    "ExecuteTime": {
     "end_time": "2024-04-06T01:25:55.621597Z",
     "start_time": "2024-04-06T01:25:55.561096Z"
    }
   },
   "outputs": [],
   "source": [
    "# Automatic File Naming Utility\n",
    "from output_util import OutputUtil\n",
    "\n",
    "outputUtil = OutputUtil()"
   ]
  },
  {
   "cell_type": "code",
   "execution_count": 2,
   "id": "3ef6b18ec03cc2a",
   "metadata": {
    "collapsed": false,
    "ExecuteTime": {
     "end_time": "2024-04-06T01:25:56.650124Z",
     "start_time": "2024-04-06T01:25:55.625106Z"
    }
   },
   "outputs": [],
   "source": [
    "import pandas as pd\n",
    "from sklearn.base import BaseEstimator, TransformerMixin\n",
    "from sklearn.impute import SimpleImputer\n",
    "from sklearn.pipeline import Pipeline\n",
    "\n",
    "\n",
    "class FeatureDropper(BaseEstimator, TransformerMixin):\n",
    "    def __init__(self, features: list[str]):\n",
    "        self.features = features\n",
    "\n",
    "    def fit(self, x: pd.DataFrame, y=None):\n",
    "        return self\n",
    "\n",
    "    def transform(self, x: pd.DataFrame) -> pd.DataFrame:\n",
    "        return x.drop(self.features, axis=1)\n",
    "\n",
    "\n",
    "class MissingValuesImputer(BaseEstimator, TransformerMixin):\n",
    "    def __init__(self, columns: list[str]):\n",
    "        self.columns = columns\n",
    "\n",
    "    def fit(self, x, y=None):\n",
    "        return self\n",
    "\n",
    "    def transform(self, x):\n",
    "        imputer = SimpleImputer(strategy='constant', fill_value=0)\n",
    "\n",
    "        for column in self.columns:\n",
    "            x[column] = imputer.fit_transform(x[[column]])\n",
    "\n",
    "        return x\n",
    "\n",
    "\n",
    "class OperatingSurplusImputer(BaseEstimator, TransformerMixin):\n",
    "    def __init__(self):\n",
    "        pass\n",
    "\n",
    "    def fit(self, x, y=None):\n",
    "        return self\n",
    "\n",
    "    def transform(self, x):\n",
    "        x[\"Operating surplus (deficit) before financing and transfers\"] = x[\"Total Revenues\"] - x[\"Total Expenses\"]\n",
    "        return x\n",
    "\n",
    "\n",
    "class YearTransformer(BaseEstimator, TransformerMixin):\n",
    "    def __init__(self):\n",
    "        pass\n",
    "\n",
    "    def fit(self, x, y=None):\n",
    "        return self\n",
    "\n",
    "    def transform(self, x, y=None):\n",
    "        x[\"Year\"] = x[\"Year\"].str.extract(r\"(\\d{4})-.*\")\n",
    "        return x\n",
    "\n",
    "\n",
    "class ColumnsShrink(BaseEstimator, TransformerMixin):\n",
    "    def __init__(self):\n",
    "        pass\n",
    "\n",
    "    def fit(self, x, y=None):\n",
    "        return self\n",
    "\n",
    "    def transform(self, x, y=None):\n",
    "        x[\"Conditional transfers from other governments\"] += x[\n",
    "                                                                 \"Conditional Transfers From Federal Or Provincial Governments Or Agencies\"] + \\\n",
    "                                                             x[\"Conditional Transfers From Other Local Governments\"]\n",
    "\n",
    "        x[\"Net property taxes and payments in lieu of taxes\"] += x[\n",
    "            \"Assessable Property Taxes (Net Of School Board Appropriations, corrections, housing deficits)\"]\n",
    "\n",
    "        return x"
   ]
  },
  {
   "cell_type": "markdown",
   "id": "ede5916a978b0df0",
   "metadata": {
    "collapsed": false
   },
   "source": [
    "# Pipeline"
   ]
  },
  {
   "cell_type": "code",
   "execution_count": 3,
   "id": "7c191743076d638f",
   "metadata": {
    "collapsed": false,
    "ExecuteTime": {
     "end_time": "2024-04-06T01:25:56.886297Z",
     "start_time": "2024-04-06T01:25:56.654770Z"
    }
   },
   "outputs": [],
   "source": [
    "from globals import FISCAL_PATH\n",
    "\n",
    "tax_columns = [\n",
    "    \"Net property taxes and payments in lieu of taxes\",\n",
    "    \"Assessable Property Taxes (Net Of School Board Appropriations, corrections, housing deficits)\"\n",
    "]\n",
    "\n",
    "transfers_columns = [\n",
    "    \"Conditional transfers from other governments\",\n",
    "    \"Conditional Transfers From Federal Or Provincial Governments Or Agencies\",\n",
    "    \"Conditional Transfers From Other Local Governments\"\n",
    "]\n",
    "\n",
    "features_to_drop = [\n",
    "    \"TOTAL FINANCING AND TRANSFERS\",\n",
    "    \"ANNUAL SURPLUS (DEFICIT)\",\n",
    "    \"Conditional Transfers From Federal Or Provincial Governments Or Agencies\",\n",
    "    \"Conditional Transfers From Other Local Governments\",\n",
    "    \"Assessable Property Taxes (Net Of School Board Appropriations, corrections, housing deficits)\"\n",
    "]\n",
    "\n",
    "# Pipeline\n",
    "pipe = Pipeline([\n",
    "    ('tax imputer', MissingValuesImputer(columns=tax_columns)),\n",
    "    ('transfer imputer', MissingValuesImputer(columns=transfers_columns)),\n",
    "    ('operating surplus imputer', OperatingSurplusImputer()),\n",
    "    ('transfers shrink', ColumnsShrink()),\n",
    "    ('year transformer', YearTransformer()),\n",
    "    ('drop', FeatureDropper(features=features_to_drop)),\n",
    "\n",
    "])\n",
    "output_df = pipe.fit_transform(pd.read_csv(FISCAL_PATH))\n",
    "\n",
    "output_df.to_csv(outputUtil.generate_output_filepath(desc=\"fiscal\"), index=False)"
   ]
  },
  {
   "cell_type": "markdown",
   "id": "b4b0ae494f592858",
   "metadata": {
    "collapsed": false
   },
   "source": [
    "# Outliers"
   ]
  },
  {
   "cell_type": "code",
   "execution_count": 4,
   "id": "29b877ea30fdeac9",
   "metadata": {
    "collapsed": false,
    "ExecuteTime": {
     "end_time": "2024-04-06T01:25:56.934105Z",
     "start_time": "2024-04-06T01:25:56.888817Z"
    }
   },
   "outputs": [
    {
     "data": {
      "text/plain": "              Region            Region Type  Count\n0            Amherst                   Town      8\n1          Annapolis     Rural Municipality      7\n2          Annapolis                   Town      1\n3    Annapolis Royal                   Town      8\n4         Antigonish     Rural Municipality      8\n5         Antigonish                   Town      8\n6             Argyle     Rural Municipality      8\n7         Barrington     Rural Municipality      8\n8            Berwick                   Town      8\n9         Bridgetown                   Town      2\n10       Bridgewater                   Town      8\n11              CBRM  Regional Municipality      8\n12           Chester     Rural Municipality      8\n13             Clare     Rural Municipality      8\n14   Clark's Harbour                   Town      8\n15        Colchester     Rural Municipality      8\n16        Cumberland     Rural Municipality      8\n17             Digby     Rural Municipality      8\n18             Digby                   Town      8\n19        East Hants     Rural Municipality      8\n20       Guysborough     Rural Municipality      8\n21               HRM  Regional Municipality      8\n22         Hantsport                   Town      2\n23         Inverness     Rural Municipality      8\n24         Kentville                   Town      8\n25             Kings     Rural Municipality      8\n26         Lockeport                   Town      8\n27         Lunenburg     Rural Municipality      8\n28         Lunenburg                   Town      8\n29        Mahone Bay                   Town      8\n30         Middleton                   Town      8\n31          Mulgrave                   Town      8\n32       New Glasgow                   Town      8\n33            Oxford                   Town      8\n34         Parrsboro                   Town      3\n35            Pictou     Rural Municipality      8\n36            Pictou                   Town      8\n37   Port Hawkesbury                   Town      8\n38  Region of Queens  Regional Municipality      8\n39          Richmond     Rural Municipality      8\n40         Shelburne     Rural Municipality      8\n41         Shelburne                   Town      8\n42        Springhill                   Town      2\n43        St. Mary's     Rural Municipality      8\n44        Stellarton                   Town      8\n45         Stewiacke                   Town      8\n46           Trenton                   Town      8\n47             Truro                   Town      8\n48          Victoria     Rural Municipality      8\n49        West Hants  Regional Municipality      1\n50        West Hants     Rural Municipality      7\n51         Westville                   Town      8\n52           Windsor                   Town      7\n53         Wolfville                   Town      8\n54          Yarmouth     Rural Municipality      8\n55          Yarmouth                   Town      8",
      "text/html": "<div>\n<style scoped>\n    .dataframe tbody tr th:only-of-type {\n        vertical-align: middle;\n    }\n\n    .dataframe tbody tr th {\n        vertical-align: top;\n    }\n\n    .dataframe thead th {\n        text-align: right;\n    }\n</style>\n<table border=\"1\" class=\"dataframe\">\n  <thead>\n    <tr style=\"text-align: right;\">\n      <th></th>\n      <th>Region</th>\n      <th>Region Type</th>\n      <th>Count</th>\n    </tr>\n  </thead>\n  <tbody>\n    <tr>\n      <th>0</th>\n      <td>Amherst</td>\n      <td>Town</td>\n      <td>8</td>\n    </tr>\n    <tr>\n      <th>1</th>\n      <td>Annapolis</td>\n      <td>Rural Municipality</td>\n      <td>7</td>\n    </tr>\n    <tr>\n      <th>2</th>\n      <td>Annapolis</td>\n      <td>Town</td>\n      <td>1</td>\n    </tr>\n    <tr>\n      <th>3</th>\n      <td>Annapolis Royal</td>\n      <td>Town</td>\n      <td>8</td>\n    </tr>\n    <tr>\n      <th>4</th>\n      <td>Antigonish</td>\n      <td>Rural Municipality</td>\n      <td>8</td>\n    </tr>\n    <tr>\n      <th>5</th>\n      <td>Antigonish</td>\n      <td>Town</td>\n      <td>8</td>\n    </tr>\n    <tr>\n      <th>6</th>\n      <td>Argyle</td>\n      <td>Rural Municipality</td>\n      <td>8</td>\n    </tr>\n    <tr>\n      <th>7</th>\n      <td>Barrington</td>\n      <td>Rural Municipality</td>\n      <td>8</td>\n    </tr>\n    <tr>\n      <th>8</th>\n      <td>Berwick</td>\n      <td>Town</td>\n      <td>8</td>\n    </tr>\n    <tr>\n      <th>9</th>\n      <td>Bridgetown</td>\n      <td>Town</td>\n      <td>2</td>\n    </tr>\n    <tr>\n      <th>10</th>\n      <td>Bridgewater</td>\n      <td>Town</td>\n      <td>8</td>\n    </tr>\n    <tr>\n      <th>11</th>\n      <td>CBRM</td>\n      <td>Regional Municipality</td>\n      <td>8</td>\n    </tr>\n    <tr>\n      <th>12</th>\n      <td>Chester</td>\n      <td>Rural Municipality</td>\n      <td>8</td>\n    </tr>\n    <tr>\n      <th>13</th>\n      <td>Clare</td>\n      <td>Rural Municipality</td>\n      <td>8</td>\n    </tr>\n    <tr>\n      <th>14</th>\n      <td>Clark's Harbour</td>\n      <td>Town</td>\n      <td>8</td>\n    </tr>\n    <tr>\n      <th>15</th>\n      <td>Colchester</td>\n      <td>Rural Municipality</td>\n      <td>8</td>\n    </tr>\n    <tr>\n      <th>16</th>\n      <td>Cumberland</td>\n      <td>Rural Municipality</td>\n      <td>8</td>\n    </tr>\n    <tr>\n      <th>17</th>\n      <td>Digby</td>\n      <td>Rural Municipality</td>\n      <td>8</td>\n    </tr>\n    <tr>\n      <th>18</th>\n      <td>Digby</td>\n      <td>Town</td>\n      <td>8</td>\n    </tr>\n    <tr>\n      <th>19</th>\n      <td>East Hants</td>\n      <td>Rural Municipality</td>\n      <td>8</td>\n    </tr>\n    <tr>\n      <th>20</th>\n      <td>Guysborough</td>\n      <td>Rural Municipality</td>\n      <td>8</td>\n    </tr>\n    <tr>\n      <th>21</th>\n      <td>HRM</td>\n      <td>Regional Municipality</td>\n      <td>8</td>\n    </tr>\n    <tr>\n      <th>22</th>\n      <td>Hantsport</td>\n      <td>Town</td>\n      <td>2</td>\n    </tr>\n    <tr>\n      <th>23</th>\n      <td>Inverness</td>\n      <td>Rural Municipality</td>\n      <td>8</td>\n    </tr>\n    <tr>\n      <th>24</th>\n      <td>Kentville</td>\n      <td>Town</td>\n      <td>8</td>\n    </tr>\n    <tr>\n      <th>25</th>\n      <td>Kings</td>\n      <td>Rural Municipality</td>\n      <td>8</td>\n    </tr>\n    <tr>\n      <th>26</th>\n      <td>Lockeport</td>\n      <td>Town</td>\n      <td>8</td>\n    </tr>\n    <tr>\n      <th>27</th>\n      <td>Lunenburg</td>\n      <td>Rural Municipality</td>\n      <td>8</td>\n    </tr>\n    <tr>\n      <th>28</th>\n      <td>Lunenburg</td>\n      <td>Town</td>\n      <td>8</td>\n    </tr>\n    <tr>\n      <th>29</th>\n      <td>Mahone Bay</td>\n      <td>Town</td>\n      <td>8</td>\n    </tr>\n    <tr>\n      <th>30</th>\n      <td>Middleton</td>\n      <td>Town</td>\n      <td>8</td>\n    </tr>\n    <tr>\n      <th>31</th>\n      <td>Mulgrave</td>\n      <td>Town</td>\n      <td>8</td>\n    </tr>\n    <tr>\n      <th>32</th>\n      <td>New Glasgow</td>\n      <td>Town</td>\n      <td>8</td>\n    </tr>\n    <tr>\n      <th>33</th>\n      <td>Oxford</td>\n      <td>Town</td>\n      <td>8</td>\n    </tr>\n    <tr>\n      <th>34</th>\n      <td>Parrsboro</td>\n      <td>Town</td>\n      <td>3</td>\n    </tr>\n    <tr>\n      <th>35</th>\n      <td>Pictou</td>\n      <td>Rural Municipality</td>\n      <td>8</td>\n    </tr>\n    <tr>\n      <th>36</th>\n      <td>Pictou</td>\n      <td>Town</td>\n      <td>8</td>\n    </tr>\n    <tr>\n      <th>37</th>\n      <td>Port Hawkesbury</td>\n      <td>Town</td>\n      <td>8</td>\n    </tr>\n    <tr>\n      <th>38</th>\n      <td>Region of Queens</td>\n      <td>Regional Municipality</td>\n      <td>8</td>\n    </tr>\n    <tr>\n      <th>39</th>\n      <td>Richmond</td>\n      <td>Rural Municipality</td>\n      <td>8</td>\n    </tr>\n    <tr>\n      <th>40</th>\n      <td>Shelburne</td>\n      <td>Rural Municipality</td>\n      <td>8</td>\n    </tr>\n    <tr>\n      <th>41</th>\n      <td>Shelburne</td>\n      <td>Town</td>\n      <td>8</td>\n    </tr>\n    <tr>\n      <th>42</th>\n      <td>Springhill</td>\n      <td>Town</td>\n      <td>2</td>\n    </tr>\n    <tr>\n      <th>43</th>\n      <td>St. Mary's</td>\n      <td>Rural Municipality</td>\n      <td>8</td>\n    </tr>\n    <tr>\n      <th>44</th>\n      <td>Stellarton</td>\n      <td>Town</td>\n      <td>8</td>\n    </tr>\n    <tr>\n      <th>45</th>\n      <td>Stewiacke</td>\n      <td>Town</td>\n      <td>8</td>\n    </tr>\n    <tr>\n      <th>46</th>\n      <td>Trenton</td>\n      <td>Town</td>\n      <td>8</td>\n    </tr>\n    <tr>\n      <th>47</th>\n      <td>Truro</td>\n      <td>Town</td>\n      <td>8</td>\n    </tr>\n    <tr>\n      <th>48</th>\n      <td>Victoria</td>\n      <td>Rural Municipality</td>\n      <td>8</td>\n    </tr>\n    <tr>\n      <th>49</th>\n      <td>West Hants</td>\n      <td>Regional Municipality</td>\n      <td>1</td>\n    </tr>\n    <tr>\n      <th>50</th>\n      <td>West Hants</td>\n      <td>Rural Municipality</td>\n      <td>7</td>\n    </tr>\n    <tr>\n      <th>51</th>\n      <td>Westville</td>\n      <td>Town</td>\n      <td>8</td>\n    </tr>\n    <tr>\n      <th>52</th>\n      <td>Windsor</td>\n      <td>Town</td>\n      <td>7</td>\n    </tr>\n    <tr>\n      <th>53</th>\n      <td>Wolfville</td>\n      <td>Town</td>\n      <td>8</td>\n    </tr>\n    <tr>\n      <th>54</th>\n      <td>Yarmouth</td>\n      <td>Rural Municipality</td>\n      <td>8</td>\n    </tr>\n    <tr>\n      <th>55</th>\n      <td>Yarmouth</td>\n      <td>Town</td>\n      <td>8</td>\n    </tr>\n  </tbody>\n</table>\n</div>"
     },
     "execution_count": 4,
     "metadata": {},
     "output_type": "execute_result"
    }
   ],
   "source": [
    "fiscal_df = pd.read_csv(outputUtil.get_curr_filepath())\n",
    "\n",
    "grouped_count = fiscal_df.groupby(['Region', 'Region Type']).size().reset_index(name='Count')\n",
    "# grouped_count = grouped_count[grouped_count['Count'] != 8]\n",
    "grouped_count"
   ]
  },
  {
   "cell_type": "markdown",
   "id": "a36b4578f1f4c3ad",
   "metadata": {
    "collapsed": false
   },
   "source": [
    "# Findings\n",
    "Issues have been identified with following cities:\n",
    "\n",
    "| City       | Issue                                               | Proposed Fix                                                                          |\n",
    "|------------|-----------------------------------------------------|---------------------------------------------------------------------------------------|\n",
    "| Annapolis  | Changed from Rural Municipality to Town in 2020     | Combine all the Annapolis (Annapolis + Annapolis data) and rename to Annapolis County |\n",
    "| Bridgetown | All data is not available                           | Merge with Annapolis County data                                                      |\n",
    "| Hantsport  | All data is not available                           | Merge with West Hants data                                                            |\n",
    "| Parrsboro  | All data is not available                           | Merge with Cumberland data                                                            |\n",
    "| Springhill | All data is not available                           | Merge with Cumberland data                                                            |\n",
    "| West Hants | Changes Rural Municipality to Regional Municipality | Merge with other data                                                                 |\n",
    "| Windsor    | All data is not available                           | Merge with West Hants data                                                            |\n",
    "\n",
    "\n",
    "| City       | Relevant Notes                                                                                                                   |\n",
    "|------------|----------------------------------------------------------------------------------------------------------------------------------|\n",
    "| Annapolis  | Annapolis and Annapolis Royal are part of larger County of Annapolis                                                             |\n",
    "| Bridgetown | In 2015, it dissolved into the larger Municipality of the County of Annapolis.                                                   |\n",
    "| Hantsport  | In 2014, it dissolved into the larger Municipality of West Hants                                                                 |\n",
    "| Parrsboro  | In 2016, it dissolved into the larger Municipality of Cumberland                                                                 |\n",
    "| Springhill | In 2015 the Town of Springhill amalgamated into the Municipality of the County of Cumberland.                                    |\n",
    "| West Hants | On April 1, 2020, the Town of Windsor amalgamated with the District of West Hants to become the West Hants Regional Municipality |\n",
    "| Windsor    | On April 1, 2020, the Town of Windsor amalgamated with the District of West Hants to become the West Hants Regional Municipality |\n"
   ]
  },
  {
   "cell_type": "markdown",
   "id": "ef516a613d96145b",
   "metadata": {
    "collapsed": false
   },
   "source": [
    "# Merging into Counties"
   ]
  },
  {
   "cell_type": "code",
   "execution_count": 5,
   "id": "deb3e739acd8d2a5",
   "metadata": {
    "collapsed": false,
    "ExecuteTime": {
     "end_time": "2024-04-06T01:25:56.952304Z",
     "start_time": "2024-04-06T01:25:56.936717Z"
    }
   },
   "outputs": [
    {
     "data": {
      "text/plain": "              Region  Count\n0            Amherst      8\n1          Annapolis      8\n2    Annapolis Royal      8\n3         Antigonish     16\n4             Argyle      8\n5         Barrington      8\n6            Berwick      8\n7         Bridgetown      2\n8        Bridgewater      8\n9               CBRM      8\n10           Chester      8\n11             Clare      8\n12   Clark's Harbour      8\n13        Colchester      8\n14        Cumberland      8\n15             Digby     16\n16        East Hants      8\n17       Guysborough      8\n18               HRM      8\n19         Hantsport      2\n20         Inverness      8\n21         Kentville      8\n22             Kings      8\n23         Lockeport      8\n24         Lunenburg     16\n25        Mahone Bay      8\n26         Middleton      8\n27          Mulgrave      8\n28       New Glasgow      8\n29            Oxford      8\n30         Parrsboro      3\n31            Pictou     16\n32   Port Hawkesbury      8\n33  Region of Queens      8\n34          Richmond      8\n35         Shelburne     16\n36        Springhill      2\n37        St. Mary's      8\n38        Stellarton      8\n39         Stewiacke      8\n40           Trenton      8\n41             Truro      8\n42          Victoria      8\n43        West Hants      8\n44         Westville      8\n45           Windsor      7\n46         Wolfville      8\n47          Yarmouth     16",
      "text/html": "<div>\n<style scoped>\n    .dataframe tbody tr th:only-of-type {\n        vertical-align: middle;\n    }\n\n    .dataframe tbody tr th {\n        vertical-align: top;\n    }\n\n    .dataframe thead th {\n        text-align: right;\n    }\n</style>\n<table border=\"1\" class=\"dataframe\">\n  <thead>\n    <tr style=\"text-align: right;\">\n      <th></th>\n      <th>Region</th>\n      <th>Count</th>\n    </tr>\n  </thead>\n  <tbody>\n    <tr>\n      <th>0</th>\n      <td>Amherst</td>\n      <td>8</td>\n    </tr>\n    <tr>\n      <th>1</th>\n      <td>Annapolis</td>\n      <td>8</td>\n    </tr>\n    <tr>\n      <th>2</th>\n      <td>Annapolis Royal</td>\n      <td>8</td>\n    </tr>\n    <tr>\n      <th>3</th>\n      <td>Antigonish</td>\n      <td>16</td>\n    </tr>\n    <tr>\n      <th>4</th>\n      <td>Argyle</td>\n      <td>8</td>\n    </tr>\n    <tr>\n      <th>5</th>\n      <td>Barrington</td>\n      <td>8</td>\n    </tr>\n    <tr>\n      <th>6</th>\n      <td>Berwick</td>\n      <td>8</td>\n    </tr>\n    <tr>\n      <th>7</th>\n      <td>Bridgetown</td>\n      <td>2</td>\n    </tr>\n    <tr>\n      <th>8</th>\n      <td>Bridgewater</td>\n      <td>8</td>\n    </tr>\n    <tr>\n      <th>9</th>\n      <td>CBRM</td>\n      <td>8</td>\n    </tr>\n    <tr>\n      <th>10</th>\n      <td>Chester</td>\n      <td>8</td>\n    </tr>\n    <tr>\n      <th>11</th>\n      <td>Clare</td>\n      <td>8</td>\n    </tr>\n    <tr>\n      <th>12</th>\n      <td>Clark's Harbour</td>\n      <td>8</td>\n    </tr>\n    <tr>\n      <th>13</th>\n      <td>Colchester</td>\n      <td>8</td>\n    </tr>\n    <tr>\n      <th>14</th>\n      <td>Cumberland</td>\n      <td>8</td>\n    </tr>\n    <tr>\n      <th>15</th>\n      <td>Digby</td>\n      <td>16</td>\n    </tr>\n    <tr>\n      <th>16</th>\n      <td>East Hants</td>\n      <td>8</td>\n    </tr>\n    <tr>\n      <th>17</th>\n      <td>Guysborough</td>\n      <td>8</td>\n    </tr>\n    <tr>\n      <th>18</th>\n      <td>HRM</td>\n      <td>8</td>\n    </tr>\n    <tr>\n      <th>19</th>\n      <td>Hantsport</td>\n      <td>2</td>\n    </tr>\n    <tr>\n      <th>20</th>\n      <td>Inverness</td>\n      <td>8</td>\n    </tr>\n    <tr>\n      <th>21</th>\n      <td>Kentville</td>\n      <td>8</td>\n    </tr>\n    <tr>\n      <th>22</th>\n      <td>Kings</td>\n      <td>8</td>\n    </tr>\n    <tr>\n      <th>23</th>\n      <td>Lockeport</td>\n      <td>8</td>\n    </tr>\n    <tr>\n      <th>24</th>\n      <td>Lunenburg</td>\n      <td>16</td>\n    </tr>\n    <tr>\n      <th>25</th>\n      <td>Mahone Bay</td>\n      <td>8</td>\n    </tr>\n    <tr>\n      <th>26</th>\n      <td>Middleton</td>\n      <td>8</td>\n    </tr>\n    <tr>\n      <th>27</th>\n      <td>Mulgrave</td>\n      <td>8</td>\n    </tr>\n    <tr>\n      <th>28</th>\n      <td>New Glasgow</td>\n      <td>8</td>\n    </tr>\n    <tr>\n      <th>29</th>\n      <td>Oxford</td>\n      <td>8</td>\n    </tr>\n    <tr>\n      <th>30</th>\n      <td>Parrsboro</td>\n      <td>3</td>\n    </tr>\n    <tr>\n      <th>31</th>\n      <td>Pictou</td>\n      <td>16</td>\n    </tr>\n    <tr>\n      <th>32</th>\n      <td>Port Hawkesbury</td>\n      <td>8</td>\n    </tr>\n    <tr>\n      <th>33</th>\n      <td>Region of Queens</td>\n      <td>8</td>\n    </tr>\n    <tr>\n      <th>34</th>\n      <td>Richmond</td>\n      <td>8</td>\n    </tr>\n    <tr>\n      <th>35</th>\n      <td>Shelburne</td>\n      <td>16</td>\n    </tr>\n    <tr>\n      <th>36</th>\n      <td>Springhill</td>\n      <td>2</td>\n    </tr>\n    <tr>\n      <th>37</th>\n      <td>St. Mary's</td>\n      <td>8</td>\n    </tr>\n    <tr>\n      <th>38</th>\n      <td>Stellarton</td>\n      <td>8</td>\n    </tr>\n    <tr>\n      <th>39</th>\n      <td>Stewiacke</td>\n      <td>8</td>\n    </tr>\n    <tr>\n      <th>40</th>\n      <td>Trenton</td>\n      <td>8</td>\n    </tr>\n    <tr>\n      <th>41</th>\n      <td>Truro</td>\n      <td>8</td>\n    </tr>\n    <tr>\n      <th>42</th>\n      <td>Victoria</td>\n      <td>8</td>\n    </tr>\n    <tr>\n      <th>43</th>\n      <td>West Hants</td>\n      <td>8</td>\n    </tr>\n    <tr>\n      <th>44</th>\n      <td>Westville</td>\n      <td>8</td>\n    </tr>\n    <tr>\n      <th>45</th>\n      <td>Windsor</td>\n      <td>7</td>\n    </tr>\n    <tr>\n      <th>46</th>\n      <td>Wolfville</td>\n      <td>8</td>\n    </tr>\n    <tr>\n      <th>47</th>\n      <td>Yarmouth</td>\n      <td>16</td>\n    </tr>\n  </tbody>\n</table>\n</div>"
     },
     "execution_count": 5,
     "metadata": {},
     "output_type": "execute_result"
    }
   ],
   "source": [
    "fiscal_df.groupby([\"Region\"]).size().reset_index(name='Count')"
   ]
  },
  {
   "cell_type": "markdown",
   "id": "624c16729c2883d4",
   "metadata": {
    "collapsed": false
   },
   "source": [
    "Entities to be merged because they fall under the same county:\n",
    "\n",
    "| Town        | Rural Municipality | County     |\n",
    "|-------------|--------------------|------------|\n",
    "| Annapolis   | Annapolis Royal    | Annapolis  |\n",
    "| Antigonish  | Antigonish         | Antigonish |\n",
    "| Digby       | Digby              | Digby      |\n",
    "| Lunenberg   | Lunenberg          | Lunenberg  |\n",
    "| Pictou      | Pictou             | Pictou     |\n",
    "| Shelburne   | Shelburne          | Shelburne  |\n",
    "| Yarmouth    | Yarmouth           | Yarmouth   |"
   ]
  },
  {
   "cell_type": "markdown",
   "id": "79490e507ebcc86e",
   "metadata": {
    "collapsed": false
   },
   "source": [
    "# Processing"
   ]
  },
  {
   "cell_type": "code",
   "execution_count": 6,
   "id": "195090536b0b5a7c",
   "metadata": {
    "collapsed": false,
    "ExecuteTime": {
     "end_time": "2024-04-06T01:25:57.005271Z",
     "start_time": "2024-04-06T01:25:56.954562Z"
    }
   },
   "outputs": [],
   "source": [
    "fiscal_df = pd.read_csv(outputUtil.get_curr_filepath())\n",
    "\n",
    "regions_to_counties = {\n",
    "    'Annapolis': ['Annapolis', 'Annapolis Royal', 'Bridgetown', 'Middleton'],\n",
    "    'Colchester': ['Truro', 'Stewiacke'],\n",
    "    'Cumberland': ['Springhill', 'Parrsboro', 'Amherst', 'Oxford'],\n",
    "    'Digby': ['Clare'],\n",
    "    'Guysborough': [\"St. Mary's\", 'Mulgrave'],\n",
    "    'Hants': ['Hantsport', 'Windsor', 'West Hants', 'East Hants'],\n",
    "    'Halifax': ['HRM'],\n",
    "    'Kings': ['Berwick', 'Kentville', 'Wolfville'],\n",
    "    'Lunenburg': ['Chester', 'Bridgewater', 'Mahone Bay'],\n",
    "    'Pictou': ['New Glasgow', 'Stellarton', 'Trenton', 'Westville'],\n",
    "    'Queens': ['Region of Queens'],\n",
    "    'Shelburne': [\"Clark's Harbour\", 'Lockeport', 'Barrington'],\n",
    "    'Yarmouth': ['Argyle'],\n",
    "    'Cape Breton': ['Port Hawkesbury', 'CBRM']\n",
    "}\n",
    "\n",
    "for county in regions_to_counties.keys():\n",
    "    fiscal_df.loc[fiscal_df[\"Region\"].isin(regions_to_counties[county]), \"Region\"] = county\n",
    "\n",
    "fiscal_df = fiscal_df.groupby(['Year', 'Region'], as_index=False).sum()\n",
    "\n",
    "region_type_to_counties = {\n",
    "    'County': ['Annapolis', 'Antigonish', 'Colchester', 'Cumberland', 'Inverness', 'Kings', 'Pictou', 'Richmond',\n",
    "               'Victoria'],\n",
    "    'Regional': ['Cape Breton', 'Halifax', 'Queens'],\n",
    "    'District': ['Digby', 'Guysborough', 'Hants', 'Lunenburg', 'Shelburne', 'Yarmouth']\n",
    "}\n",
    "\n",
    "for region_type in region_type_to_counties.keys():\n",
    "    fiscal_df.loc[fiscal_df['Region'].isin(region_type_to_counties[region_type]), 'Region Type'] = region_type\n",
    "\n",
    "fiscal_df = fiscal_df.rename(columns={'Region Type': 'Municipality Type'})\n",
    "\n",
    "# Next year fields\n",
    "fiscal_df.sort_values(by=\"Year\", ascending=True, inplace=True)\n",
    "fiscal_df[\"Next Year Total Expenses\"] = fiscal_df.groupby('Region')['Total Expenses'].shift(-1)\n",
    "fiscal_df[\"Next Year Total Revenues\"] = fiscal_df.groupby('Region')['Total Revenues'].shift(-1)\n",
    "\n",
    "fiscal_df.to_csv(outputUtil.generate_output_filepath(desc=\"fiscal_regions_processed\"), index=False)"
   ]
  },
  {
   "cell_type": "markdown",
   "id": "6566aca68a71a4da",
   "metadata": {
    "collapsed": false
   },
   "source": [
    "# Municipality Type Encoding"
   ]
  },
  {
   "cell_type": "code",
   "execution_count": 7,
   "id": "c317a518f1616a48",
   "metadata": {
    "collapsed": false,
    "ExecuteTime": {
     "end_time": "2024-04-06T01:25:57.037921Z",
     "start_time": "2024-04-06T01:25:57.007641Z"
    }
   },
   "outputs": [],
   "source": [
    "class MunicipalityTypeEncoding(BaseEstimator, TransformerMixin):\n",
    "    def __init__(self):\n",
    "        pass\n",
    "\n",
    "    def fit(self, x: pd.DataFrame, y=None):\n",
    "        return self\n",
    "\n",
    "    def transform(self, x: pd.DataFrame) -> pd.DataFrame:\n",
    "        one_hot = pd.get_dummies(x['Municipality Type'])\n",
    "        x = x.drop(['Municipality Type'], axis=1)\n",
    "        x = x.join(one_hot)\n",
    "        return x\n",
    "\n",
    "\n",
    "fiscal_df = pd.read_csv(outputUtil.get_curr_filepath())\n",
    "\n",
    "# Pipeline\n",
    "pipe = Pipeline([\n",
    "    ('onehot', MunicipalityTypeEncoding()),\n",
    "])\n",
    "\n",
    "output_df = pipe.fit_transform(fiscal_df)\n",
    "output_df.to_csv(outputUtil.generate_output_filepath(desc=\"one_hot\"), index=False)"
   ]
  },
  {
   "cell_type": "markdown",
   "id": "c05a243cfdfc6e10",
   "metadata": {
    "collapsed": false
   },
   "source": [
    "# Final Output of the Notebook"
   ]
  },
  {
   "cell_type": "code",
   "execution_count": 8,
   "id": "fc84ba2a67101c76",
   "metadata": {
    "collapsed": false,
    "ExecuteTime": {
     "end_time": "2024-04-06T01:25:57.067586Z",
     "start_time": "2024-04-06T01:25:57.041425Z"
    }
   },
   "outputs": [],
   "source": [
    "df = pd.read_csv(outputUtil.get_curr_filepath())\n",
    "df.to_csv(outputUtil.get_final_filepath(), index=False)"
   ]
  }
 ],
 "metadata": {
  "kernelspec": {
   "display_name": "Python 3",
   "language": "python",
   "name": "python3"
  },
  "language_info": {
   "codemirror_mode": {
    "name": "ipython",
    "version": 3
   },
   "file_extension": ".py",
   "mimetype": "text/x-python",
   "name": "python",
   "nbconvert_exporter": "python",
   "pygments_lexer": "ipython3",
   "version": "3.12.2"
  }
 },
 "nbformat": 4,
 "nbformat_minor": 5
}
