{
 "cells": [
  {
   "cell_type": "code",
   "outputs": [],
   "source": [
    "# Automatic File Naming Utility\n",
    "from output_util import OutputUtil\n",
    "\n",
    "outputUtil = OutputUtil()"
   ],
   "metadata": {
    "collapsed": false,
    "ExecuteTime": {
     "end_time": "2024-04-06T01:26:04.809402Z",
     "start_time": "2024-04-06T01:26:04.755242Z"
    }
   },
   "id": "6036180c68999e7f",
   "execution_count": 1
  },
  {
   "cell_type": "markdown",
   "source": [
    "# Minimum Wage Data Preprocessing"
   ],
   "metadata": {
    "collapsed": false
   },
   "id": "8885644ce39a1cb"
  },
  {
   "cell_type": "code",
   "outputs": [],
   "source": [
    "import pandas as pd\n",
    "from globals import MINWAGE_PATH\n",
    "\n",
    "minwage_df = pd.read_csv(MINWAGE_PATH)\n",
    "\n",
    "drop_features = [\"Gender\", \"Rate Type\", \"Wage Type\", \"Zone\"]\n",
    "minwage_df = minwage_df.drop(drop_features, axis=1)\n",
    "\n",
    "minwage_df.to_csv(outputUtil.generate_output_filepath(desc=\"minwage_column\"), index=False)"
   ],
   "metadata": {
    "collapsed": false,
    "ExecuteTime": {
     "end_time": "2024-04-06T01:26:04.842624Z",
     "start_time": "2024-04-06T01:26:04.811510Z"
    }
   },
   "id": "296f30c9e146570",
   "execution_count": 2
  },
  {
   "cell_type": "markdown",
   "source": [
    "### Merging wage data by year"
   ],
   "metadata": {
    "collapsed": false
   },
   "id": "27d9d7c8be69cde3"
  },
  {
   "cell_type": "code",
   "outputs": [],
   "source": [
    "minwage_df = pd.read_csv(outputUtil.get_curr_filepath())\n",
    "\n",
    "minwage_df['Date Enacted'] = pd.to_datetime(minwage_df['Date Enacted'])\n",
    "minwage_df['Year'] = minwage_df['Date Enacted'].dt.year\n",
    "minwage_df = minwage_df.groupby('Year')[['Rate']].mean().reset_index()\n",
    "minwage_df = minwage_df[(minwage_df[\"Year\"] >= 2013) & (minwage_df[\"Year\"] <= 2020)]\n",
    "minwage_df.rename(columns={\"Rate\": \"Minimum Wage\"}, inplace=True)\n",
    "\n",
    "minwage_df.to_csv(outputUtil.generate_output_filepath(desc=\"minwage_merge_cols\"), index=False)"
   ],
   "metadata": {
    "collapsed": false,
    "ExecuteTime": {
     "end_time": "2024-04-06T01:26:04.878318Z",
     "start_time": "2024-04-06T01:26:04.844935Z"
    }
   },
   "id": "c8b59a577a6c986a",
   "execution_count": 3
  },
  {
   "cell_type": "markdown",
   "source": [
    "# Final Output of the Notebook"
   ],
   "metadata": {
    "collapsed": false
   },
   "id": "34ee9540975c1873"
  },
  {
   "cell_type": "code",
   "outputs": [],
   "source": [
    "df = pd.read_csv(outputUtil.get_curr_filepath())\n",
    "df.to_csv(outputUtil.get_final_filepath(), index=False)"
   ],
   "metadata": {
    "collapsed": false,
    "ExecuteTime": {
     "end_time": "2024-04-06T01:26:04.901267Z",
     "start_time": "2024-04-06T01:26:04.881708Z"
    }
   },
   "id": "175c8d98db044305",
   "execution_count": 4
  }
 ],
 "metadata": {
  "kernelspec": {
   "display_name": "Python 3",
   "language": "python",
   "name": "python3"
  },
  "language_info": {
   "codemirror_mode": {
    "name": "ipython",
    "version": 2
   },
   "file_extension": ".py",
   "mimetype": "text/x-python",
   "name": "python",
   "nbconvert_exporter": "python",
   "pygments_lexer": "ipython2",
   "version": "2.7.6"
  }
 },
 "nbformat": 4,
 "nbformat_minor": 5
}
