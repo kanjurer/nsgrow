{
 "cells": [
  {
   "cell_type": "code",
   "execution_count": 1,
   "metadata": {
    "ExecuteTime": {
     "end_time": "2024-04-06T01:26:03.970553Z",
     "start_time": "2024-04-06T01:26:03.920062Z"
    }
   },
   "outputs": [],
   "source": [
    "# Automatic File Naming Utility\n",
    "from output_util import OutputUtil\n",
    "\n",
    "outputUtil = OutputUtil()"
   ]
  },
  {
   "cell_type": "markdown",
   "metadata": {},
   "source": [
    "# Tax Rates Data Preprocessing and Merge"
   ]
  },
  {
   "cell_type": "code",
   "execution_count": 2,
   "metadata": {
    "ExecuteTime": {
     "end_time": "2024-04-06T01:26:04.043851Z",
     "start_time": "2024-04-06T01:26:03.973937Z"
    }
   },
   "outputs": [],
   "source": [
    "import pandas as pd\n",
    "from globals import TAXRATES_PATH\n",
    "\n",
    "taxrates_df = pd.read_csv(TAXRATES_PATH)\n",
    "taxrates_df = taxrates_df.drop('Area Type', axis=1)\n",
    "\n",
    "counties_to_cities = {\n",
    "    'Annapolis': ['ANNAPOLIS', 'ANNAPOLIS ROYAL', 'BRIDGETOWN', 'MIDDLETON'],\n",
    "    'Antigonish': ['ANTIGONISH'],\n",
    "    'Cape Breton': ['CAPE BRETON MUN-Suburban', 'CITY OF SYDNEY', 'DOMINION', 'GLACE BAY', 'LOUISBOURG',\n",
    "                    'NEW WATERFORD', 'NORTH SYDNEY', 'SYDNEY MINES'],\n",
    "    'Colchester': ['TRURO', 'COLCHESTER', 'STEWIACKE', 'CANSO'],\n",
    "    'Cumberland': ['AMHERST', 'PARRSBORO', 'CUMBERLAND', 'OXFORD', 'SPRINGHILL'],\n",
    "    'Digby': ['CLARE', 'DIGBY'],\n",
    "    'Guysborough': [\"ST. MARY'S\", 'MULGRAVE', 'GUYSBOROUGH'],\n",
    "    'Hants': ['WINDSOR', 'WEST HANTS', 'EAST HANTS'],\n",
    "    'Halifax': ['BEDFORD', 'DARTMOUTH', 'HALIFAX', 'HALIFAX URBAN CORE', 'COUNTY URBAN', 'COUNTY SUBURBAN',\n",
    "                'COUNTY RURAL'],\n",
    "    'Inverness': ['INVERNESS', 'PORT HAWKESBURY'],\n",
    "    'Kings': ['BERWICK', 'KENTVILLE', 'WOLFVILLE', 'HANTSPORT', 'KINGS'],\n",
    "    'Lunenberg': ['CHESTER', 'BRIDGEWATER', 'MAHONE BAY', 'LUNENBURG'],\n",
    "    'Pictou': ['NEW GLASGOW', 'WESTVILLE', 'STELLARTON', 'TRENTON', 'PICTOU'],\n",
    "    'Queens': ['QUEENS COUNTY', 'LIVERPOOL'],\n",
    "    'Richmond': ['RICHMOND'],\n",
    "    'Shelburne': [\"CLARK'S HARBOR\", 'BARRINGTON', 'SHELBURNE', \"LOCKEPORT\"],\n",
    "    'Yarmouth': ['ARGYLE', 'YARMOUTH'],\n",
    "    'Victoria': ['VICTORIA']\n",
    "}\n",
    "\n",
    "for county in counties_to_cities.keys():\n",
    "    taxrates_df.loc[taxrates_df['Area'].isin(counties_to_cities[county]), 'Area'] = county\n",
    "\n",
    "taxrates_df.to_csv(outputUtil.generate_output_filepath(desc=\"county_average\"), index=False)"
   ]
  },
  {
   "cell_type": "markdown",
   "metadata": {},
   "source": [
    "### Merging county data by year"
   ]
  },
  {
   "cell_type": "code",
   "execution_count": 3,
   "metadata": {
    "ExecuteTime": {
     "end_time": "2024-04-06T01:26:04.078961Z",
     "start_time": "2024-04-06T01:26:04.046112Z"
    }
   },
   "outputs": [],
   "source": [
    "taxrates_df = pd.read_csv(outputUtil.get_curr_filepath())\n",
    "taxrates_df = taxrates_df.groupby(['Year', 'Area'], as_index=False).mean()\n",
    "taxrates_df.rename(\n",
    "    columns={\"Residential\": \"Residential Tax Rates\", \"Commercial\": \"Commercial Tax Rates\", \"Area\": \"Region\"},\n",
    "    inplace=True)\n",
    "taxrates_df = taxrates_df.loc[taxrates_df['Year'].isin(\n",
    "    ['2013/2014', '2014/2015', '2015/2016', '2016/2017', '2017/2018', '2018/2019', '2019/2020', '2020/2021'])]\n",
    "taxrates_df['Year'] = taxrates_df['Year'].replace(\n",
    "    ['2013/2014', '2014/2015', '2015/2016', '2016/2017', '2017/2018', '2018/2019', '2019/2020', '2020/2021'],\n",
    "    ['2013', '2014', '2015', '2016', '2017', '2018', '2019', '2020'])\n",
    "taxrates_df.to_csv(outputUtil.generate_output_filepath(desc=\"taxrates_processed\"), index=False)"
   ]
  },
  {
   "cell_type": "markdown",
   "metadata": {},
   "source": [
    "# Final Output of the Notebook"
   ]
  },
  {
   "cell_type": "code",
   "execution_count": 4,
   "metadata": {
    "ExecuteTime": {
     "end_time": "2024-04-06T01:26:04.099875Z",
     "start_time": "2024-04-06T01:26:04.081296Z"
    }
   },
   "outputs": [],
   "source": [
    "df = pd.read_csv(outputUtil.get_curr_filepath())\n",
    "df.to_csv(outputUtil.get_final_filepath(), index=False)"
   ]
  }
 ],
 "metadata": {
  "kernelspec": {
   "display_name": "base",
   "language": "python",
   "name": "python3"
  },
  "language_info": {
   "codemirror_mode": {
    "name": "ipython",
    "version": 3
   },
   "file_extension": ".py",
   "mimetype": "text/x-python",
   "name": "python",
   "nbconvert_exporter": "python",
   "pygments_lexer": "ipython3",
   "version": "3.12.2"
  }
 },
 "nbformat": 4,
 "nbformat_minor": 2
}
