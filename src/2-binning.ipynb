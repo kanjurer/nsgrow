{
 "cells": [
  {
   "cell_type": "code",
   "outputs": [],
   "source": [
    "# Automatic File Naming Utility\n",
    "from output_util import OutputUtil\n",
    "\n",
    "outputUtil = OutputUtil()"
   ],
   "metadata": {
    "collapsed": false,
    "ExecuteTime": {
     "end_time": "2024-04-06T01:26:14.053440Z",
     "start_time": "2024-04-06T01:26:14.032866Z"
    }
   },
   "id": "a5c8b444dad86436",
   "execution_count": 7
  },
  {
   "cell_type": "markdown",
   "source": [
    "# Ratios"
   ],
   "metadata": {
    "collapsed": false
   },
   "id": "c20cc6bcf14fa65e"
  },
  {
   "cell_type": "markdown",
   "source": [
    "## Expenses and Revenue per capita"
   ],
   "metadata": {
    "collapsed": false
   },
   "id": "3718571bb39c8d7d"
  },
  {
   "cell_type": "code",
   "execution_count": 8,
   "id": "98e72a0d7d7c57fc",
   "metadata": {
    "collapsed": false,
    "ExecuteTime": {
     "end_time": "2024-04-06T01:26:14.091499Z",
     "start_time": "2024-04-06T01:26:14.060475Z"
    }
   },
   "outputs": [],
   "source": [
    "import pandas as pd\n",
    "from globals import MERGE_OUTPUT_PATH\n",
    "\n",
    "df = pd.read_csv(MERGE_OUTPUT_PATH)\n",
    "\n",
    "expenses_features = [\n",
    "    \"General Government Services\",\n",
    "    \"Protective Services\",\n",
    "    \"Transportation Services\",\n",
    "    \"Environmental Health Services\",\n",
    "    \"Public Health Services\",\n",
    "    \"Environmental Development Services\",\n",
    "    \"Recreation And Cultural Services\",\n",
    "    \"Extraordinary Or Special Items\",\n",
    "    \"Total Expenses\"\n",
    "]\n",
    "\n",
    "revenue_features = [\n",
    "    \"Net property taxes and payments in lieu of taxes\",\n",
    "    \"Grants In Lieu Of Taxes\",\n",
    "    \"Services Provided To Other Governments\",\n",
    "    \"Sales Of Services\",\n",
    "    \"Other Revenue From Own Sources\",\n",
    "    \"Unconditional Transfers From Other Governments\",\n",
    "    \"Conditional transfers from other governments\",\n",
    "    \"Total Revenues\",\n",
    "]\n",
    "\n",
    "# feature per capita\n",
    "for feature in expenses_features + revenue_features:\n",
    "    df[feature + \"_per_capita\"] = df[feature] / df[\"Population\"]\n",
    "\n",
    "# TODO : Do this calculation on per year basis\n",
    "# df[[feature + \"_per_capita\" for feature in expenses_features]].mean(axis=0)\n",
    "# \n",
    "# df[expenses_features] = df[expenses_features] / df[expenses_features].mean(axis=0)\n",
    "\n",
    "df.to_csv(outputUtil.generate_output_filepath(desc=\"ratios\"), index=False)"
   ]
  },
  {
   "cell_type": "markdown",
   "source": [
    "## Population Density"
   ],
   "metadata": {
    "collapsed": false
   },
   "id": "431f4e85d9e79d55"
  },
  {
   "cell_type": "code",
   "outputs": [],
   "source": [
    "capita_df = pd.read_csv(outputUtil.get_curr_filepath())\n",
    "\n",
    "capita_df[\"Population Density\"] = capita_df[\"Population\"] / capita_df[\"Land Area\"]\n",
    "\n",
    "capita_df.to_csv(outputUtil.generate_output_filepath(desc=\"popdensity\"), index=False)"
   ],
   "metadata": {
    "collapsed": false,
    "ExecuteTime": {
     "end_time": "2024-04-06T01:26:14.125998Z",
     "start_time": "2024-04-06T01:26:14.093758Z"
    }
   },
   "id": "c76e6f7cf6e4bcc",
   "execution_count": 9
  },
  {
   "cell_type": "markdown",
   "id": "959c6000a28d6539",
   "metadata": {
    "collapsed": false
   },
   "source": [
    "# Binning"
   ]
  },
  {
   "cell_type": "code",
   "execution_count": 10,
   "id": "initial_id",
   "metadata": {
    "collapsed": true,
    "ExecuteTime": {
     "end_time": "2024-04-06T01:26:14.158938Z",
     "start_time": "2024-04-06T01:26:14.128549Z"
    }
   },
   "outputs": [],
   "source": [
    "import pandas as pd\n",
    "\n",
    "df = pd.read_csv(outputUtil.get_curr_filepath())\n",
    "\n",
    "intervals = [0, 11000, 22000, 46000, 90000, 150000, 1000000]\n",
    "labels = [1, 2, 3, 4, 5, 6]\n",
    "df[\"Population Size\"] = pd.cut(df[\"Population\"], bins=intervals, labels=labels)\n",
    "\n",
    "df.to_csv(outputUtil.generate_output_filepath(desc=\"binned_pop\"), index=False)"
   ]
  },
  {
   "cell_type": "code",
   "outputs": [],
   "source": [
    "df = pd.read_csv(outputUtil.get_curr_filepath())\n",
    "\n",
    "intervals = [1000, 2000, 3000, 4000, 5000, 6000]\n",
    "labels = [1, 2, 3, 4, 5]\n",
    "df[\"Land Area Size\"] = pd.cut(df[\"Land Area\"], bins=intervals, labels=labels)\n",
    "\n",
    "df.to_csv(outputUtil.generate_output_filepath(desc=\"binned_area\"), index=False)"
   ],
   "metadata": {
    "collapsed": false,
    "ExecuteTime": {
     "end_time": "2024-04-06T01:26:14.189266Z",
     "start_time": "2024-04-06T01:26:14.161267Z"
    }
   },
   "id": "80ef1db8ab885ac2",
   "execution_count": 11
  },
  {
   "cell_type": "markdown",
   "source": [
    "# Final Output of the Notebook"
   ],
   "metadata": {
    "collapsed": false
   },
   "id": "6c57a528da7c634f"
  },
  {
   "cell_type": "code",
   "execution_count": 12,
   "id": "d0afd91a",
   "metadata": {
    "ExecuteTime": {
     "end_time": "2024-04-06T01:26:14.217789Z",
     "start_time": "2024-04-06T01:26:14.191528Z"
    }
   },
   "outputs": [],
   "source": [
    "df = pd.read_csv(outputUtil.get_curr_filepath())\n",
    "df.to_csv(outputUtil.get_final_filepath(), index=False)"
   ]
  }
 ],
 "metadata": {
  "kernelspec": {
   "display_name": "Python 3",
   "language": "python",
   "name": "python3"
  },
  "language_info": {
   "codemirror_mode": {
    "name": "ipython",
    "version": 3
   },
   "file_extension": ".py",
   "mimetype": "text/x-python",
   "name": "python",
   "nbconvert_exporter": "python",
   "pygments_lexer": "ipython3",
   "version": "3.12.2"
  }
 },
 "nbformat": 4,
 "nbformat_minor": 5
}
