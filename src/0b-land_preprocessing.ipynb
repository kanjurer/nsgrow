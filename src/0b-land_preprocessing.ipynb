{
 "cells": [
  {
   "cell_type": "markdown",
   "id": "26b9683837997ed6",
   "metadata": {
    "collapsed": false
   },
   "source": [
    "# Land"
   ]
  },
  {
   "cell_type": "code",
   "execution_count": 1,
   "id": "9e00dda98bb18627",
   "metadata": {
    "collapsed": false,
    "ExecuteTime": {
     "end_time": "2024-04-06T01:25:53.686507Z",
     "start_time": "2024-04-06T01:25:53.613701Z"
    }
   },
   "outputs": [],
   "source": [
    "# Automatic File Naming Utility\n",
    "from output_util import OutputUtil\n",
    "\n",
    "outputUtil = OutputUtil()"
   ]
  },
  {
   "cell_type": "markdown",
   "id": "f44937e438711080",
   "metadata": {
    "collapsed": false
   },
   "source": [
    "# Land Dataframe Retrieval"
   ]
  },
  {
   "cell_type": "code",
   "execution_count": 2,
   "id": "7af08dae6c11fa4f",
   "metadata": {
    "collapsed": false,
    "ExecuteTime": {
     "end_time": "2024-04-06T01:25:53.945821Z",
     "start_time": "2024-04-06T01:25:53.691417Z"
    }
   },
   "outputs": [],
   "source": [
    "import io\n",
    "import pandas as pd\n",
    "from globals import LAND_PATH\n",
    "\n",
    "start_line = 9\n",
    "end_line = 28\n",
    "skip_lines = [10]\n",
    "lines_to_read = []\n",
    "header_line = 9\n",
    "header = \"\"\n",
    "\n",
    "# Open the file\n",
    "with open(LAND_PATH, 'r') as file:\n",
    "    # Skip lines until the start_line\n",
    "    for i in range(0, end_line + 1):\n",
    "        # headers\n",
    "        if i == header_line:\n",
    "            header = next(file)\n",
    "        elif (i not in skip_lines) and start_line <= i <= end_line:\n",
    "            lines_to_read.append(next(file))\n",
    "        else:\n",
    "            next(file)\n",
    "\n",
    "file.close()\n",
    "\n",
    "data = header + ''.join(lines_to_read)\n",
    "df = pd.read_csv(io.StringIO(data))\n",
    "\n",
    "df.to_csv(outputUtil.generate_output_filepath(desc=\"land_raw\"), index=False)"
   ]
  },
  {
   "cell_type": "markdown",
   "id": "d642243107ac532f",
   "metadata": {
    "collapsed": false
   },
   "source": [
    "# Land Preprocessing"
   ]
  },
  {
   "cell_type": "code",
   "execution_count": 3,
   "id": "2a415d48ce8f3b57",
   "metadata": {
    "collapsed": false,
    "ExecuteTime": {
     "end_time": "2024-04-06T01:25:54.436729Z",
     "start_time": "2024-04-06T01:25:53.948155Z"
    }
   },
   "outputs": [],
   "source": [
    "from sklearn.base import BaseEstimator, TransformerMixin\n",
    "from sklearn.pipeline import Pipeline\n",
    "\n",
    "pop_df = pd.read_csv(outputUtil.get_curr_filepath(), thousands=\",\")\n",
    "\n",
    "\n",
    "class LandTransformer(BaseEstimator, TransformerMixin):\n",
    "    def __init__(self):\n",
    "        pass\n",
    "\n",
    "    def fit(self, x, y=None):\n",
    "        return self\n",
    "\n",
    "    def transform(self, x: pd.DataFrame, y=None) -> pd.DataFrame:\n",
    "        x = x[[\"Geographic name\", \"Land area in square kilometres, 2021\"]]\n",
    "        x = x.rename(columns={\"Geographic name\": \"Region\", \"Land area in square kilometres, 2021\": \"Land Area\"})\n",
    "        x[\"Land Area\"] = x[\"Land Area\"].astype(\"int64\")\n",
    "        return x\n",
    "\n",
    "\n",
    "pipe = Pipeline([\n",
    "    ('land', LandTransformer()),\n",
    "])\n",
    "\n",
    "pop_df = pipe.fit_transform(pop_df)\n",
    "pop_df.to_csv(outputUtil.generate_output_filepath(\"landpipeline\"), index=False)"
   ]
  },
  {
   "cell_type": "markdown",
   "id": "e7b9b32dd0022a23",
   "metadata": {
    "collapsed": false
   },
   "source": [
    "# Final Output of the Notebook"
   ]
  },
  {
   "cell_type": "code",
   "execution_count": 4,
   "id": "4f6da8bd8e56fbf8",
   "metadata": {
    "collapsed": false,
    "ExecuteTime": {
     "end_time": "2024-04-06T01:25:54.459563Z",
     "start_time": "2024-04-06T01:25:54.440555Z"
    }
   },
   "outputs": [],
   "source": [
    "df = pd.read_csv(outputUtil.get_curr_filepath())\n",
    "df.to_csv(outputUtil.get_final_filepath(), index=False)"
   ]
  }
 ],
 "metadata": {
  "kernelspec": {
   "display_name": "Python 3",
   "language": "python",
   "name": "python3"
  },
  "language_info": {
   "codemirror_mode": {
    "name": "ipython",
    "version": 3
   },
   "file_extension": ".py",
   "mimetype": "text/x-python",
   "name": "python",
   "nbconvert_exporter": "python",
   "pygments_lexer": "ipython3",
   "version": "3.12.2"
  }
 },
 "nbformat": 4,
 "nbformat_minor": 5
}
